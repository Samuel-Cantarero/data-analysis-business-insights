{
 "cells": [
  {
   "cell_type": "markdown",
   "id": "fc9b4c90",
   "metadata": {},
   "source": [
    "## 1.  Load\n"
   ]
  },
  {
   "cell_type": "markdown",
   "id": "4dafa492",
   "metadata": {},
   "source": [
    "### 1.1. Dataset information"
   ]
  },
  {
   "cell_type": "code",
   "execution_count": 1,
   "id": "4107b254",
   "metadata": {},
   "outputs": [
    {
     "name": "stdout",
     "output_type": "stream",
     "text": [
      "<class 'pandas.core.frame.DataFrame'>\n",
      "RangeIndex: 300 entries, 0 to 299\n",
      "Data columns (total 10 columns):\n",
      " #   Column            Non-Null Count  Dtype \n",
      "---  ------            --------------  ----- \n",
      " 0   customer_id       298 non-null    object\n",
      " 1   name              291 non-null    object\n",
      " 2   email             266 non-null    object\n",
      " 3   signup_date       298 non-null    object\n",
      " 4   source            291 non-null    object\n",
      " 5   region            270 non-null    object\n",
      " 6   plan_selected     292 non-null    object\n",
      " 7   marketing_opt_in  290 non-null    object\n",
      " 8   age               288 non-null    object\n",
      " 9   gender            292 non-null    object\n",
      "dtypes: object(10)\n",
      "memory usage: 23.6+ KB\n"
     ]
    }
   ],
   "source": [
    "import pandas as pd\n",
    "from IPython.display import display\n",
    "import matplotlib.pyplot as plt\n",
    "import numpy as np\n",
    "\n",
    "# Load dataset\n",
    "df = pd.read_csv(\"customer_signups.csv\")\n",
    "\n",
    "#Dataset structure and data types\n",
    "df.info()"
   ]
  },
  {
   "cell_type": "code",
   "execution_count": 2,
   "id": "4ca32641",
   "metadata": {},
   "outputs": [
    {
     "name": "stdout",
     "output_type": "stream",
     "text": [
      "\n",
      "Column names:\n",
      "['customer_id', 'name', 'email', 'signup_date', 'source', 'region', 'plan_selected', 'marketing_opt_in', 'age', 'gender']\n"
     ]
    }
   ],
   "source": [
    "# Column names\n",
    "print(\"\\nColumn names:\")\n",
    "print(df.columns.tolist())"
   ]
  },
  {
   "cell_type": "code",
   "execution_count": 3,
   "id": "e460b544",
   "metadata": {},
   "outputs": [
    {
     "name": "stdout",
     "output_type": "stream",
     "text": [
      "\n",
      "First 5 rows:\n"
     ]
    },
    {
     "data": {
      "text/html": [
       "<div>\n",
       "<style scoped>\n",
       "    .dataframe tbody tr th:only-of-type {\n",
       "        vertical-align: middle;\n",
       "    }\n",
       "\n",
       "    .dataframe tbody tr th {\n",
       "        vertical-align: top;\n",
       "    }\n",
       "\n",
       "    .dataframe thead th {\n",
       "        text-align: right;\n",
       "    }\n",
       "</style>\n",
       "<table border=\"1\" class=\"dataframe\">\n",
       "  <thead>\n",
       "    <tr style=\"text-align: right;\">\n",
       "      <th></th>\n",
       "      <th>customer_id</th>\n",
       "      <th>name</th>\n",
       "      <th>email</th>\n",
       "      <th>signup_date</th>\n",
       "      <th>source</th>\n",
       "      <th>region</th>\n",
       "      <th>plan_selected</th>\n",
       "      <th>marketing_opt_in</th>\n",
       "      <th>age</th>\n",
       "      <th>gender</th>\n",
       "    </tr>\n",
       "  </thead>\n",
       "  <tbody>\n",
       "    <tr>\n",
       "      <th>0</th>\n",
       "      <td>CUST00000</td>\n",
       "      <td>Joshua Bryant</td>\n",
       "      <td>NaN</td>\n",
       "      <td>NaN</td>\n",
       "      <td>Instagram</td>\n",
       "      <td>NaN</td>\n",
       "      <td>basic</td>\n",
       "      <td>No</td>\n",
       "      <td>34</td>\n",
       "      <td>Female</td>\n",
       "    </tr>\n",
       "    <tr>\n",
       "      <th>1</th>\n",
       "      <td>CUST00001</td>\n",
       "      <td>Nicole Stewart</td>\n",
       "      <td>nicole1@example.com</td>\n",
       "      <td>02-01-24</td>\n",
       "      <td>LinkedIn</td>\n",
       "      <td>West</td>\n",
       "      <td>basic</td>\n",
       "      <td>Yes</td>\n",
       "      <td>29</td>\n",
       "      <td>Male</td>\n",
       "    </tr>\n",
       "    <tr>\n",
       "      <th>2</th>\n",
       "      <td>CUST00002</td>\n",
       "      <td>Rachel Allen</td>\n",
       "      <td>rachel2@example.com</td>\n",
       "      <td>03-01-24</td>\n",
       "      <td>Google</td>\n",
       "      <td>North</td>\n",
       "      <td>PREMIUM</td>\n",
       "      <td>Yes</td>\n",
       "      <td>34</td>\n",
       "      <td>Non-Binary</td>\n",
       "    </tr>\n",
       "    <tr>\n",
       "      <th>3</th>\n",
       "      <td>CUST00003</td>\n",
       "      <td>Zachary Sanchez</td>\n",
       "      <td>zachary3@mailhub.org</td>\n",
       "      <td>04-01-24</td>\n",
       "      <td>YouTube</td>\n",
       "      <td>NaN</td>\n",
       "      <td>Pro</td>\n",
       "      <td>No</td>\n",
       "      <td>40</td>\n",
       "      <td>Male</td>\n",
       "    </tr>\n",
       "    <tr>\n",
       "      <th>4</th>\n",
       "      <td>CUST00004</td>\n",
       "      <td>NaN</td>\n",
       "      <td>matthew4@mailhub.org</td>\n",
       "      <td>05-01-24</td>\n",
       "      <td>LinkedIn</td>\n",
       "      <td>West</td>\n",
       "      <td>Premium</td>\n",
       "      <td>No</td>\n",
       "      <td>25</td>\n",
       "      <td>Other</td>\n",
       "    </tr>\n",
       "  </tbody>\n",
       "</table>\n",
       "</div>"
      ],
      "text/plain": [
       "  customer_id             name                 email signup_date     source  \\\n",
       "0   CUST00000    Joshua Bryant                   NaN         NaN  Instagram   \n",
       "1   CUST00001   Nicole Stewart   nicole1@example.com    02-01-24   LinkedIn   \n",
       "2   CUST00002     Rachel Allen   rachel2@example.com    03-01-24     Google   \n",
       "3   CUST00003  Zachary Sanchez  zachary3@mailhub.org    04-01-24    YouTube   \n",
       "4   CUST00004              NaN  matthew4@mailhub.org    05-01-24   LinkedIn   \n",
       "\n",
       "  region plan_selected marketing_opt_in age      gender  \n",
       "0    NaN         basic               No  34      Female  \n",
       "1   West         basic              Yes  29        Male  \n",
       "2  North       PREMIUM              Yes  34  Non-Binary  \n",
       "3    NaN           Pro               No  40        Male  \n",
       "4   West       Premium               No  25       Other  "
      ]
     },
     "metadata": {},
     "output_type": "display_data"
    }
   ],
   "source": [
    "#First 5 rows\n",
    "print(\"\\nFirst 5 rows:\")\n",
    "display(df.head())\n",
    "# Display all columns in the dataframe\n",
    "pd.set_option('display.max_columns', None)"
   ]
  },
  {
   "cell_type": "markdown",
   "id": "e09a5fcf",
   "metadata": {},
   "source": [
    "### 1.2. Identify Missing Values"
   ]
  },
  {
   "cell_type": "code",
   "execution_count": 4,
   "id": "7e777f50",
   "metadata": {},
   "outputs": [
    {
     "name": "stdout",
     "output_type": "stream",
     "text": [
      "\n",
      "Missing values per column:\n"
     ]
    },
    {
     "data": {
      "text/html": [
       "<div>\n",
       "<style scoped>\n",
       "    .dataframe tbody tr th:only-of-type {\n",
       "        vertical-align: middle;\n",
       "    }\n",
       "\n",
       "    .dataframe tbody tr th {\n",
       "        vertical-align: top;\n",
       "    }\n",
       "\n",
       "    .dataframe thead th {\n",
       "        text-align: right;\n",
       "    }\n",
       "</style>\n",
       "<table border=\"1\" class=\"dataframe\">\n",
       "  <thead>\n",
       "    <tr style=\"text-align: right;\">\n",
       "      <th></th>\n",
       "      <th>Missing Count</th>\n",
       "      <th>Missing Percentage</th>\n",
       "    </tr>\n",
       "  </thead>\n",
       "  <tbody>\n",
       "    <tr>\n",
       "      <th>customer_id</th>\n",
       "      <td>2</td>\n",
       "      <td>0.67</td>\n",
       "    </tr>\n",
       "    <tr>\n",
       "      <th>name</th>\n",
       "      <td>9</td>\n",
       "      <td>3.00</td>\n",
       "    </tr>\n",
       "    <tr>\n",
       "      <th>email</th>\n",
       "      <td>34</td>\n",
       "      <td>11.33</td>\n",
       "    </tr>\n",
       "    <tr>\n",
       "      <th>signup_date</th>\n",
       "      <td>2</td>\n",
       "      <td>0.67</td>\n",
       "    </tr>\n",
       "    <tr>\n",
       "      <th>source</th>\n",
       "      <td>9</td>\n",
       "      <td>3.00</td>\n",
       "    </tr>\n",
       "    <tr>\n",
       "      <th>region</th>\n",
       "      <td>30</td>\n",
       "      <td>10.00</td>\n",
       "    </tr>\n",
       "    <tr>\n",
       "      <th>plan_selected</th>\n",
       "      <td>8</td>\n",
       "      <td>2.67</td>\n",
       "    </tr>\n",
       "    <tr>\n",
       "      <th>marketing_opt_in</th>\n",
       "      <td>10</td>\n",
       "      <td>3.33</td>\n",
       "    </tr>\n",
       "    <tr>\n",
       "      <th>age</th>\n",
       "      <td>12</td>\n",
       "      <td>4.00</td>\n",
       "    </tr>\n",
       "    <tr>\n",
       "      <th>gender</th>\n",
       "      <td>8</td>\n",
       "      <td>2.67</td>\n",
       "    </tr>\n",
       "  </tbody>\n",
       "</table>\n",
       "</div>"
      ],
      "text/plain": [
       "                  Missing Count  Missing Percentage\n",
       "customer_id                   2                0.67\n",
       "name                          9                3.00\n",
       "email                        34               11.33\n",
       "signup_date                   2                0.67\n",
       "source                        9                3.00\n",
       "region                       30               10.00\n",
       "plan_selected                 8                2.67\n",
       "marketing_opt_in             10                3.33\n",
       "age                          12                4.00\n",
       "gender                        8                2.67"
      ]
     },
     "metadata": {},
     "output_type": "display_data"
    }
   ],
   "source": [
    "#Missing values summary\n",
    "print(\"\\nMissing values per column:\")\n",
    "missing_summary = pd.DataFrame({\n",
    "    \"Missing Count\": df.isnull().sum(),\n",
    "    \"Missing Percentage\": (df.isnull().mean() * 100).round(2)\n",
    "})\n",
    "display(missing_summary)"
   ]
  },
  {
   "cell_type": "code",
   "execution_count": 5,
   "id": "d3d1e3b1",
   "metadata": {},
   "outputs": [
    {
     "name": "stdout",
     "output_type": "stream",
     "text": [
      "\n",
      "Data types of each column:\n"
     ]
    },
    {
     "data": {
      "text/plain": [
       "customer_id         object\n",
       "name                object\n",
       "email               object\n",
       "signup_date         object\n",
       "source              object\n",
       "region              object\n",
       "plan_selected       object\n",
       "marketing_opt_in    object\n",
       "age                 object\n",
       "gender              object\n",
       "dtype: object"
      ]
     },
     "metadata": {},
     "output_type": "display_data"
    }
   ],
   "source": [
    "#Data types of each column\n",
    "print(\"\\nData types of each column:\")\n",
    "display(df.dtypes)"
   ]
  },
  {
   "cell_type": "markdown",
   "id": "54f738bf",
   "metadata": {},
   "source": [
    "## 2. Data Cleaning and Transformation\n"
   ]
  },
  {
   "cell_type": "markdown",
   "id": "75b4a985",
   "metadata": {},
   "source": [
    "### 2.1 Convert `signup_date` to Datetime"
   ]
  },
  {
   "cell_type": "code",
   "execution_count": 6,
   "id": "b539f555",
   "metadata": {},
   "outputs": [
    {
     "name": "stdout",
     "output_type": "stream",
     "text": [
      "Converted column: 'signup_date' (first 5 values):\n"
     ]
    },
    {
     "data": {
      "text/html": [
       "<div>\n",
       "<style scoped>\n",
       "    .dataframe tbody tr th:only-of-type {\n",
       "        vertical-align: middle;\n",
       "    }\n",
       "\n",
       "    .dataframe tbody tr th {\n",
       "        vertical-align: top;\n",
       "    }\n",
       "\n",
       "    .dataframe thead th {\n",
       "        text-align: right;\n",
       "    }\n",
       "</style>\n",
       "<table border=\"1\" class=\"dataframe\">\n",
       "  <thead>\n",
       "    <tr style=\"text-align: right;\">\n",
       "      <th></th>\n",
       "      <th>signup_date</th>\n",
       "    </tr>\n",
       "  </thead>\n",
       "  <tbody>\n",
       "    <tr>\n",
       "      <th>0</th>\n",
       "      <td>NaT</td>\n",
       "    </tr>\n",
       "    <tr>\n",
       "      <th>1</th>\n",
       "      <td>2024-01-02</td>\n",
       "    </tr>\n",
       "    <tr>\n",
       "      <th>2</th>\n",
       "      <td>2024-01-03</td>\n",
       "    </tr>\n",
       "    <tr>\n",
       "      <th>3</th>\n",
       "      <td>2024-01-04</td>\n",
       "    </tr>\n",
       "    <tr>\n",
       "      <th>4</th>\n",
       "      <td>2024-01-05</td>\n",
       "    </tr>\n",
       "  </tbody>\n",
       "</table>\n",
       "</div>"
      ],
      "text/plain": [
       "  signup_date\n",
       "0         NaT\n",
       "1  2024-01-02\n",
       "2  2024-01-03\n",
       "3  2024-01-04\n",
       "4  2024-01-05"
      ]
     },
     "metadata": {},
     "output_type": "display_data"
    },
    {
     "name": "stdout",
     "output_type": "stream",
     "text": [
      "\n",
      "Data type of 'signup_date': datetime64[ns]\n"
     ]
    }
   ],
   "source": [
    "# Convert 'signup_date' to datetime format\n",
    "df['signup_date'] = pd.to_datetime(df['signup_date'], format='%d-%m-%y', errors='coerce')\n",
    "\n",
    "# Show cleaned signup_date column\n",
    "print(\"Converted column: 'signup_date' (first 5 values):\")\n",
    "display(df[['signup_date']].head(5))\n",
    "\n",
    "# Show data type\n",
    "print(\"\\nData type of 'signup_date':\", df['signup_date'].dtype)\n",
    "\n"
   ]
  },
  {
   "cell_type": "markdown",
   "id": "dd28ebb1",
   "metadata": {},
   "source": [
    "### 2.2 Convert `age` to numeric"
   ]
  },
  {
   "cell_type": "code",
   "execution_count": 7,
   "id": "8efaa24e",
   "metadata": {},
   "outputs": [
    {
     "name": "stdout",
     "output_type": "stream",
     "text": [
      "Converted column: 'age' (first 5 values):\n"
     ]
    },
    {
     "data": {
      "text/html": [
       "<div>\n",
       "<style scoped>\n",
       "    .dataframe tbody tr th:only-of-type {\n",
       "        vertical-align: middle;\n",
       "    }\n",
       "\n",
       "    .dataframe tbody tr th {\n",
       "        vertical-align: top;\n",
       "    }\n",
       "\n",
       "    .dataframe thead th {\n",
       "        text-align: right;\n",
       "    }\n",
       "</style>\n",
       "<table border=\"1\" class=\"dataframe\">\n",
       "  <thead>\n",
       "    <tr style=\"text-align: right;\">\n",
       "      <th></th>\n",
       "      <th>age</th>\n",
       "    </tr>\n",
       "  </thead>\n",
       "  <tbody>\n",
       "    <tr>\n",
       "      <th>0</th>\n",
       "      <td>34.0</td>\n",
       "    </tr>\n",
       "    <tr>\n",
       "      <th>1</th>\n",
       "      <td>29.0</td>\n",
       "    </tr>\n",
       "    <tr>\n",
       "      <th>2</th>\n",
       "      <td>34.0</td>\n",
       "    </tr>\n",
       "    <tr>\n",
       "      <th>3</th>\n",
       "      <td>40.0</td>\n",
       "    </tr>\n",
       "    <tr>\n",
       "      <th>4</th>\n",
       "      <td>25.0</td>\n",
       "    </tr>\n",
       "  </tbody>\n",
       "</table>\n",
       "</div>"
      ],
      "text/plain": [
       "    age\n",
       "0  34.0\n",
       "1  29.0\n",
       "2  34.0\n",
       "3  40.0\n",
       "4  25.0"
      ]
     },
     "metadata": {},
     "output_type": "display_data"
    },
    {
     "name": "stdout",
     "output_type": "stream",
     "text": [
      "\n",
      "Data type of 'age': float64\n",
      "\n",
      "Number of missing or invalid ages after cleaning: 20\n"
     ]
    }
   ],
   "source": [
    "# Convert 'age' to numeric (force invalid entries to NaN)\n",
    "df['age'] = pd.to_numeric(df['age'], errors='coerce')\n",
    "\n",
    "# Invalidate unrealistic age values (<18 or >100)\n",
    "df.loc[(df['age'] < 18) | (df['age'] > 100), 'age'] = pd.NA\n",
    "\n",
    "# Show cleaned age column\n",
    "print(\"Converted column: 'age' (first 5 values):\")\n",
    "display(df[['age']].head(5))\n",
    "\n",
    "# Show data type\n",
    "print(\"\\nData type of 'age':\", df['age'].dtype)\n",
    "\n",
    "# Show count of missing/invalid values\n",
    "invalid_age_count = df['age'].isna().sum()\n",
    "print(f\"\\nNumber of missing or invalid ages after cleaning: {invalid_age_count}\")\n"
   ]
  },
  {
   "cell_type": "markdown",
   "id": "790567bd",
   "metadata": {},
   "source": [
    "### 2.2 Standardise Inconsistent Text Values"
   ]
  },
  {
   "cell_type": "code",
   "execution_count": 8,
   "id": "8dce7e34",
   "metadata": {},
   "outputs": [
    {
     "name": "stdout",
     "output_type": "stream",
     "text": [
      "Standardised 17 values in 'name'\n"
     ]
    }
   ],
   "source": [
    "# Standardize 'name'\n",
    "changed_name = (df['name'] != df['name'].str.strip().str.title()).sum()\n",
    "df['name'] = df['name'].str.strip().str.title()\n",
    "print(f\"Standardised {changed_name} values in 'name'\")"
   ]
  },
  {
   "cell_type": "code",
   "execution_count": 9,
   "id": "5b3f676c",
   "metadata": {},
   "outputs": [
    {
     "name": "stdout",
     "output_type": "stream",
     "text": [
      "Standardised 34 values in 'email'\n"
     ]
    }
   ],
   "source": [
    "# Standardize 'email'\n",
    "changed_email = (df['email'] != df['email'].str.strip().str.lower()).sum()\n",
    "df['email'] = df['email'].str.strip().str.lower()\n",
    "print(f\"Standardised {changed_email} values in 'email'\")"
   ]
  },
  {
   "cell_type": "code",
   "execution_count": 10,
   "id": "614af52b",
   "metadata": {},
   "outputs": [
    {
     "name": "stdout",
     "output_type": "stream",
     "text": [
      "Standardised 144 values in 'plan_selected'\n"
     ]
    }
   ],
   "source": [
    "#Standardize 'plan_selected'\n",
    "changed_plan = (df['plan_selected'] != df['plan_selected'].str.strip().str.title()).sum()\n",
    "df['plan_selected'] = df['plan_selected'].str.strip().str.title()\n",
    "df['plan_selected'] = df['plan_selected'].replace({'Unknownplan': pd.NA})\n",
    "print(f\"Standardised {changed_plan} values in 'plan_selected'\")"
   ]
  },
  {
   "cell_type": "code",
   "execution_count": 11,
   "id": "a0177c26",
   "metadata": {},
   "outputs": [
    {
     "name": "stdout",
     "output_type": "stream",
     "text": [
      "Standardised 108 values in 'gender'\n"
     ]
    }
   ],
   "source": [
    "#Standardize 'gender'\n",
    "changed_gender = (df['gender'] != df['gender'].str.strip().str.title()).sum()\n",
    "df['gender'] = df['gender'].str.strip().str.title()\n",
    "df['gender'] = df['gender'].replace({'123': pd.NA})\n",
    "print(f\"Standardised {changed_gender} values in 'gender'\")"
   ]
  },
  {
   "cell_type": "code",
   "execution_count": 12,
   "id": "c0990ba6",
   "metadata": {},
   "outputs": [
    {
     "name": "stdout",
     "output_type": "stream",
     "text": [
      "Standardised 10 values in 'marketing_opt_in'\n"
     ]
    }
   ],
   "source": [
    "#Standardize 'marketing_opt_in'\n",
    "changed_marketing = (df['marketing_opt_in'] != df['marketing_opt_in'].str.strip().str.title()).sum()\n",
    "df['marketing_opt_in'] = df['marketing_opt_in'].str.strip().str.title()\n",
    "print(f\"Standardised {changed_marketing} values in 'marketing_opt_in'\")"
   ]
  },
  {
   "cell_type": "code",
   "execution_count": 13,
   "id": "cdf9390f",
   "metadata": {},
   "outputs": [
    {
     "name": "stdout",
     "output_type": "stream",
     "text": [
      "Standardised 106 values in 'source'\n"
     ]
    }
   ],
   "source": [
    "#Standardize 'source'\n",
    "changed_source = (df['source'] != df['source'].str.strip().str.title()).sum()\n",
    "df['source'] = df['source'].str.strip().str.title()\n",
    "print(f\"Standardised {changed_source} values in 'source'\")"
   ]
  },
  {
   "cell_type": "code",
   "execution_count": 14,
   "id": "a6183e24",
   "metadata": {},
   "outputs": [
    {
     "name": "stdout",
     "output_type": "stream",
     "text": [
      "Standardised 30 values in 'region'\n"
     ]
    }
   ],
   "source": [
    "#Standardize 'region'\n",
    "changed_region = (df['region'] != df['region'].str.strip().str.title()).sum()\n",
    "df['region'] = df['region'].str.strip().str.title()\n",
    "print(f\"Standardised {changed_region} values in 'region'\")"
   ]
  },
  {
   "cell_type": "markdown",
   "id": "08b9dd28",
   "metadata": {},
   "source": [
    "### 2.3 Remove duplicate rows based on customer_id "
   ]
  },
  {
   "cell_type": "code",
   "execution_count": 15,
   "id": "6f6561fb",
   "metadata": {},
   "outputs": [
    {
     "name": "stdout",
     "output_type": "stream",
     "text": [
      "Duplicate 'customer_id' values (non-NaN): 0\n",
      "'customer_id' values that are NaN: 2\n",
      "Remaining rows after removing duplicates: 299\n"
     ]
    }
   ],
   "source": [
    "# Normalize 'customer_id' (preserving NaNs)\n",
    "df['customer_id'] = df['customer_id'].astype('string').str.strip().str.upper()\n",
    "\n",
    "# Count duplicates with actual values (excluding NaN)\n",
    "duplicates_real = df['customer_id'].duplicated(keep=False) & df['customer_id'].notna()\n",
    "print(f\"Duplicate 'customer_id' values (non-NaN): {duplicates_real.sum()}\")\n",
    "\n",
    "# Count entries with NaN in 'customer_id'\n",
    "duplicates_nan = df['customer_id'].isna().sum()\n",
    "print(f\"'customer_id' values that are NaN: {duplicates_nan}\")\n",
    "\n",
    "# Remove duplicate rows (keep the first occurrence)\n",
    "df = df.drop_duplicates(subset='customer_id', keep='first')\n",
    "print(f\"Remaining rows after removing duplicates: {df.shape[0]}\")\n"
   ]
  },
  {
   "cell_type": "markdown",
   "id": "50131779",
   "metadata": {},
   "source": [
    "### 2.4 Handle missing values "
   ]
  },
  {
   "cell_type": "code",
   "execution_count": 16,
   "id": "47e55fe5",
   "metadata": {},
   "outputs": [
    {
     "name": "stdout",
     "output_type": "stream",
     "text": [
      "Dropped 34 rows with missing 'email'.\n"
     ]
    }
   ],
   "source": [
    "# Drop rows with missing 'email' (essential for contact/identity)\n",
    "missing_email = df['email'].isna().sum()\n",
    "df = df.dropna(subset=['email'])\n",
    "print(f\"Dropped {missing_email} rows with missing 'email'.\")"
   ]
  },
  {
   "cell_type": "code",
   "execution_count": 17,
   "id": "e72d92e6",
   "metadata": {},
   "outputs": [
    {
     "name": "stdout",
     "output_type": "stream",
     "text": [
      "Dropped 1 rows with missing 'customer_id'.\n"
     ]
    }
   ],
   "source": [
    "#Drop rows with missing 'customer_id' (should be unique per user)\n",
    "missing_id = df['customer_id'].isna().sum()\n",
    "df = df.dropna(subset=['customer_id'])\n",
    "print(f\"Dropped {missing_id} rows with missing 'customer_id'.\")"
   ]
  },
  {
   "cell_type": "code",
   "execution_count": 18,
   "id": "155da910",
   "metadata": {},
   "outputs": [
    {
     "name": "stdout",
     "output_type": "stream",
     "text": [
      "Filled 7 missing values in 'name' with 'Unknown'.\n"
     ]
    }
   ],
   "source": [
    "# Fill missing 'name' with 'Unknown'\n",
    "missing_name = df['name'].isna().sum()\n",
    "df['name'] = df['name'].fillna('Unknown')\n",
    "print(f\"Filled {missing_name} missing values in 'name' with 'Unknown'.\")"
   ]
  },
  {
   "cell_type": "code",
   "execution_count": 19,
   "id": "85386486",
   "metadata": {},
   "outputs": [
    {
     "name": "stdout",
     "output_type": "stream",
     "text": [
      "Filled 26 missing values in 'region' with 'Unknown'.\n"
     ]
    }
   ],
   "source": [
    "#Fill missing 'region' with 'Unknown'\n",
    "missing_region = df['region'].isna().sum()\n",
    "df['region'] = df['region'].fillna('Unknown')\n",
    "print(f\"Filled {missing_region} missing values in 'region' with 'Unknown'.\")"
   ]
  },
  {
   "cell_type": "code",
   "execution_count": 20,
   "id": "ee84c503",
   "metadata": {},
   "outputs": [
    {
     "name": "stdout",
     "output_type": "stream",
     "text": [
      "Filled 18 missing or invalid values in 'age' with median (34.0).\n"
     ]
    }
   ],
   "source": [
    "#Fill missing or invalid 'age' values with the median\n",
    "missing_age = df['age'].isna().sum()\n",
    "median_age = df['age'].median()\n",
    "df['age'] = df['age'].fillna(median_age)\n",
    "print(f\"Filled {missing_age} missing or invalid values in 'age' with median ({median_age}).\")"
   ]
  },
  {
   "cell_type": "code",
   "execution_count": 21,
   "id": "69200383",
   "metadata": {},
   "outputs": [
    {
     "name": "stdout",
     "output_type": "stream",
     "text": [
      "Filled 6 missing values in 'signup_date' with median date: 2024-05-28 12:00:00\n"
     ]
    }
   ],
   "source": [
    "# Calculate median date ignoring missing\n",
    "median_date = df['signup_date'].median()\n",
    "\n",
    "# Fill missing signup_date with median\n",
    "missing_signup = df['signup_date'].isna().sum()\n",
    "df['signup_date'] = df['signup_date'].fillna(median_date)\n",
    "\n",
    "print(f\"Filled {missing_signup} missing values in 'signup_date' with median date: {median_date}\")"
   ]
  },
  {
   "cell_type": "code",
   "execution_count": 22,
   "id": "e5ef1497",
   "metadata": {},
   "outputs": [
    {
     "name": "stdout",
     "output_type": "stream",
     "text": [
      "Filled 11 missing values in 'gender' with 'Unspecified'.\n"
     ]
    }
   ],
   "source": [
    "#Fill missing 'gender' with 'Unspecified'\n",
    "missing_gender = df['gender'].isna().sum()\n",
    "df['gender'] = df['gender'].fillna('Unspecified')\n",
    "print(f\"Filled {missing_gender} missing values in 'gender' with 'Unspecified'.\")"
   ]
  },
  {
   "cell_type": "code",
   "execution_count": 23,
   "id": "f7dda6d9",
   "metadata": {},
   "outputs": [
    {
     "name": "stdout",
     "output_type": "stream",
     "text": [
      "Filled 12 missing values in 'plan_selected' with 'Unknown'.\n"
     ]
    }
   ],
   "source": [
    "#Fill missing 'plan_selected' with 'Unknown'\n",
    "missing_plan = df['plan_selected'].isna().sum()\n",
    "df['plan_selected'] = df['plan_selected'].fillna('Unknown')\n",
    "print(f\"Filled {missing_plan} missing values in 'plan_selected' with 'Unknown'.\")"
   ]
  },
  {
   "cell_type": "code",
   "execution_count": 24,
   "id": "97679212",
   "metadata": {},
   "outputs": [
    {
     "name": "stdout",
     "output_type": "stream",
     "text": [
      "Filled 9 missing values in 'source' with 'Unknown'.\n"
     ]
    }
   ],
   "source": [
    "#Fill missing 'source' with 'Unknown'\n",
    "missing_source = df['source'].isna().sum()\n",
    "df['source'] = df['source'].fillna('Unknown')\n",
    "print(f\"Filled {missing_source} missing values in 'source' with 'Unknown'.\")"
   ]
  },
  {
   "cell_type": "code",
   "execution_count": 25,
   "id": "3973332c",
   "metadata": {},
   "outputs": [
    {
     "name": "stdout",
     "output_type": "stream",
     "text": [
      "Filled 9 missing values in 'marketing_opt_in' with 'No'.\n"
     ]
    }
   ],
   "source": [
    "#Fill missing 'marketing_opt_in' with 'No'\n",
    "missing_opt_in = df['marketing_opt_in'].isna().sum()\n",
    "df['marketing_opt_in'] = df['marketing_opt_in'].fillna('No')\n",
    "print(f\"Filled {missing_opt_in} missing values in 'marketing_opt_in' with 'No'.\")"
   ]
  },
  {
   "cell_type": "markdown",
   "id": "c49b17df",
   "metadata": {},
   "source": [
    "## 3. Summary Outputs\n"
   ]
  },
  {
   "cell_type": "markdown",
   "id": "32929f0d",
   "metadata": {},
   "source": [
    "### 3.1 Sign-ups per week  "
   ]
  },
  {
   "cell_type": "code",
   "execution_count": 26,
   "id": "440c3b19",
   "metadata": {},
   "outputs": [
    {
     "name": "stdout",
     "output_type": "stream",
     "text": [
      "Weekly Sign-ups Summary:\n"
     ]
    },
    {
     "data": {
      "text/html": [
       "<div>\n",
       "<style scoped>\n",
       "    .dataframe tbody tr th:only-of-type {\n",
       "        vertical-align: middle;\n",
       "    }\n",
       "\n",
       "    .dataframe tbody tr th {\n",
       "        vertical-align: top;\n",
       "    }\n",
       "\n",
       "    .dataframe thead th {\n",
       "        text-align: right;\n",
       "    }\n",
       "</style>\n",
       "<table border=\"1\" class=\"dataframe\">\n",
       "  <thead>\n",
       "    <tr style=\"text-align: right;\">\n",
       "      <th></th>\n",
       "      <th>Week</th>\n",
       "      <th>Sign-ups</th>\n",
       "    </tr>\n",
       "  </thead>\n",
       "  <tbody>\n",
       "    <tr>\n",
       "      <th>0</th>\n",
       "      <td>2024-01-07</td>\n",
       "      <td>6</td>\n",
       "    </tr>\n",
       "    <tr>\n",
       "      <th>1</th>\n",
       "      <td>2024-01-14</td>\n",
       "      <td>6</td>\n",
       "    </tr>\n",
       "    <tr>\n",
       "      <th>2</th>\n",
       "      <td>2024-01-21</td>\n",
       "      <td>6</td>\n",
       "    </tr>\n",
       "    <tr>\n",
       "      <th>3</th>\n",
       "      <td>2024-01-28</td>\n",
       "      <td>6</td>\n",
       "    </tr>\n",
       "    <tr>\n",
       "      <th>4</th>\n",
       "      <td>2024-02-04</td>\n",
       "      <td>7</td>\n",
       "    </tr>\n",
       "    <tr>\n",
       "      <th>5</th>\n",
       "      <td>2024-02-11</td>\n",
       "      <td>6</td>\n",
       "    </tr>\n",
       "    <tr>\n",
       "      <th>6</th>\n",
       "      <td>2024-02-18</td>\n",
       "      <td>6</td>\n",
       "    </tr>\n",
       "    <tr>\n",
       "      <th>7</th>\n",
       "      <td>2024-02-25</td>\n",
       "      <td>6</td>\n",
       "    </tr>\n",
       "    <tr>\n",
       "      <th>8</th>\n",
       "      <td>2024-03-03</td>\n",
       "      <td>7</td>\n",
       "    </tr>\n",
       "    <tr>\n",
       "      <th>9</th>\n",
       "      <td>2024-03-10</td>\n",
       "      <td>6</td>\n",
       "    </tr>\n",
       "    <tr>\n",
       "      <th>10</th>\n",
       "      <td>2024-03-17</td>\n",
       "      <td>6</td>\n",
       "    </tr>\n",
       "    <tr>\n",
       "      <th>11</th>\n",
       "      <td>2024-03-24</td>\n",
       "      <td>5</td>\n",
       "    </tr>\n",
       "    <tr>\n",
       "      <th>12</th>\n",
       "      <td>2024-03-31</td>\n",
       "      <td>5</td>\n",
       "    </tr>\n",
       "    <tr>\n",
       "      <th>13</th>\n",
       "      <td>2024-04-07</td>\n",
       "      <td>7</td>\n",
       "    </tr>\n",
       "    <tr>\n",
       "      <th>14</th>\n",
       "      <td>2024-04-14</td>\n",
       "      <td>6</td>\n",
       "    </tr>\n",
       "    <tr>\n",
       "      <th>15</th>\n",
       "      <td>2024-04-21</td>\n",
       "      <td>6</td>\n",
       "    </tr>\n",
       "    <tr>\n",
       "      <th>16</th>\n",
       "      <td>2024-04-28</td>\n",
       "      <td>6</td>\n",
       "    </tr>\n",
       "    <tr>\n",
       "      <th>17</th>\n",
       "      <td>2024-05-05</td>\n",
       "      <td>6</td>\n",
       "    </tr>\n",
       "    <tr>\n",
       "      <th>18</th>\n",
       "      <td>2024-05-12</td>\n",
       "      <td>6</td>\n",
       "    </tr>\n",
       "    <tr>\n",
       "      <th>19</th>\n",
       "      <td>2024-05-19</td>\n",
       "      <td>6</td>\n",
       "    </tr>\n",
       "    <tr>\n",
       "      <th>20</th>\n",
       "      <td>2024-05-26</td>\n",
       "      <td>6</td>\n",
       "    </tr>\n",
       "    <tr>\n",
       "      <th>21</th>\n",
       "      <td>2024-06-02</td>\n",
       "      <td>12</td>\n",
       "    </tr>\n",
       "    <tr>\n",
       "      <th>22</th>\n",
       "      <td>2024-06-09</td>\n",
       "      <td>6</td>\n",
       "    </tr>\n",
       "    <tr>\n",
       "      <th>23</th>\n",
       "      <td>2024-06-16</td>\n",
       "      <td>5</td>\n",
       "    </tr>\n",
       "    <tr>\n",
       "      <th>24</th>\n",
       "      <td>2024-06-23</td>\n",
       "      <td>6</td>\n",
       "    </tr>\n",
       "    <tr>\n",
       "      <th>25</th>\n",
       "      <td>2024-06-30</td>\n",
       "      <td>6</td>\n",
       "    </tr>\n",
       "    <tr>\n",
       "      <th>26</th>\n",
       "      <td>2024-07-07</td>\n",
       "      <td>7</td>\n",
       "    </tr>\n",
       "    <tr>\n",
       "      <th>27</th>\n",
       "      <td>2024-07-14</td>\n",
       "      <td>6</td>\n",
       "    </tr>\n",
       "    <tr>\n",
       "      <th>28</th>\n",
       "      <td>2024-07-21</td>\n",
       "      <td>5</td>\n",
       "    </tr>\n",
       "    <tr>\n",
       "      <th>29</th>\n",
       "      <td>2024-07-28</td>\n",
       "      <td>6</td>\n",
       "    </tr>\n",
       "    <tr>\n",
       "      <th>30</th>\n",
       "      <td>2024-08-04</td>\n",
       "      <td>6</td>\n",
       "    </tr>\n",
       "    <tr>\n",
       "      <th>31</th>\n",
       "      <td>2024-08-11</td>\n",
       "      <td>6</td>\n",
       "    </tr>\n",
       "    <tr>\n",
       "      <th>32</th>\n",
       "      <td>2024-08-18</td>\n",
       "      <td>6</td>\n",
       "    </tr>\n",
       "    <tr>\n",
       "      <th>33</th>\n",
       "      <td>2024-08-25</td>\n",
       "      <td>6</td>\n",
       "    </tr>\n",
       "    <tr>\n",
       "      <th>34</th>\n",
       "      <td>2024-09-01</td>\n",
       "      <td>6</td>\n",
       "    </tr>\n",
       "    <tr>\n",
       "      <th>35</th>\n",
       "      <td>2024-09-08</td>\n",
       "      <td>7</td>\n",
       "    </tr>\n",
       "    <tr>\n",
       "      <th>36</th>\n",
       "      <td>2024-09-15</td>\n",
       "      <td>6</td>\n",
       "    </tr>\n",
       "    <tr>\n",
       "      <th>37</th>\n",
       "      <td>2024-09-22</td>\n",
       "      <td>6</td>\n",
       "    </tr>\n",
       "    <tr>\n",
       "      <th>38</th>\n",
       "      <td>2024-09-29</td>\n",
       "      <td>6</td>\n",
       "    </tr>\n",
       "    <tr>\n",
       "      <th>39</th>\n",
       "      <td>2024-10-06</td>\n",
       "      <td>6</td>\n",
       "    </tr>\n",
       "    <tr>\n",
       "      <th>40</th>\n",
       "      <td>2024-10-13</td>\n",
       "      <td>7</td>\n",
       "    </tr>\n",
       "    <tr>\n",
       "      <th>41</th>\n",
       "      <td>2024-10-20</td>\n",
       "      <td>5</td>\n",
       "    </tr>\n",
       "    <tr>\n",
       "      <th>42</th>\n",
       "      <td>2024-10-27</td>\n",
       "      <td>5</td>\n",
       "    </tr>\n",
       "  </tbody>\n",
       "</table>\n",
       "</div>"
      ],
      "text/plain": [
       "         Week  Sign-ups\n",
       "0  2024-01-07         6\n",
       "1  2024-01-14         6\n",
       "2  2024-01-21         6\n",
       "3  2024-01-28         6\n",
       "4  2024-02-04         7\n",
       "5  2024-02-11         6\n",
       "6  2024-02-18         6\n",
       "7  2024-02-25         6\n",
       "8  2024-03-03         7\n",
       "9  2024-03-10         6\n",
       "10 2024-03-17         6\n",
       "11 2024-03-24         5\n",
       "12 2024-03-31         5\n",
       "13 2024-04-07         7\n",
       "14 2024-04-14         6\n",
       "15 2024-04-21         6\n",
       "16 2024-04-28         6\n",
       "17 2024-05-05         6\n",
       "18 2024-05-12         6\n",
       "19 2024-05-19         6\n",
       "20 2024-05-26         6\n",
       "21 2024-06-02        12\n",
       "22 2024-06-09         6\n",
       "23 2024-06-16         5\n",
       "24 2024-06-23         6\n",
       "25 2024-06-30         6\n",
       "26 2024-07-07         7\n",
       "27 2024-07-14         6\n",
       "28 2024-07-21         5\n",
       "29 2024-07-28         6\n",
       "30 2024-08-04         6\n",
       "31 2024-08-11         6\n",
       "32 2024-08-18         6\n",
       "33 2024-08-25         6\n",
       "34 2024-09-01         6\n",
       "35 2024-09-08         7\n",
       "36 2024-09-15         6\n",
       "37 2024-09-22         6\n",
       "38 2024-09-29         6\n",
       "39 2024-10-06         6\n",
       "40 2024-10-13         7\n",
       "41 2024-10-20         5\n",
       "42 2024-10-27         5"
      ]
     },
     "metadata": {},
     "output_type": "display_data"
    }
   ],
   "source": [
    "# Group by week and count sign-ups\n",
    "weekly_signups = df.groupby(pd.Grouper(key='signup_date', freq='W')).size()\n",
    "\n",
    "# Convert to DataFrame for clear display\n",
    "weekly_signups_df = weekly_signups.reset_index()\n",
    "weekly_signups_df.columns = ['Week', 'Sign-ups']\n",
    "\n",
    "# Display the full table\n",
    "print(\"Weekly Sign-ups Summary:\")\n",
    "display(weekly_signups_df)\n"
   ]
  },
  {
   "cell_type": "markdown",
   "id": "55bd0b1c",
   "metadata": {},
   "source": [
    "### 3.2 Sign-ups by source, region, and plan_selected"
   ]
  },
  {
   "cell_type": "code",
   "execution_count": 27,
   "id": "56d01cf1",
   "metadata": {},
   "outputs": [
    {
     "name": "stdout",
     "output_type": "stream",
     "text": [
      "Sign-ups by Source:\n"
     ]
    },
    {
     "data": {
      "text/html": [
       "<div>\n",
       "<style scoped>\n",
       "    .dataframe tbody tr th:only-of-type {\n",
       "        vertical-align: middle;\n",
       "    }\n",
       "\n",
       "    .dataframe tbody tr th {\n",
       "        vertical-align: top;\n",
       "    }\n",
       "\n",
       "    .dataframe thead th {\n",
       "        text-align: right;\n",
       "    }\n",
       "</style>\n",
       "<table border=\"1\" class=\"dataframe\">\n",
       "  <thead>\n",
       "    <tr style=\"text-align: right;\">\n",
       "      <th></th>\n",
       "      <th>Source</th>\n",
       "      <th>Sign-ups</th>\n",
       "    </tr>\n",
       "  </thead>\n",
       "  <tbody>\n",
       "    <tr>\n",
       "      <th>0</th>\n",
       "      <td>Youtube</td>\n",
       "      <td>53</td>\n",
       "    </tr>\n",
       "    <tr>\n",
       "      <th>1</th>\n",
       "      <td>Referral</td>\n",
       "      <td>44</td>\n",
       "    </tr>\n",
       "    <tr>\n",
       "      <th>2</th>\n",
       "      <td>Google</td>\n",
       "      <td>43</td>\n",
       "    </tr>\n",
       "    <tr>\n",
       "      <th>3</th>\n",
       "      <td>Instagram</td>\n",
       "      <td>40</td>\n",
       "    </tr>\n",
       "    <tr>\n",
       "      <th>4</th>\n",
       "      <td>Facebook</td>\n",
       "      <td>37</td>\n",
       "    </tr>\n",
       "    <tr>\n",
       "      <th>5</th>\n",
       "      <td>Linkedin</td>\n",
       "      <td>32</td>\n",
       "    </tr>\n",
       "    <tr>\n",
       "      <th>6</th>\n",
       "      <td>Unknown</td>\n",
       "      <td>9</td>\n",
       "    </tr>\n",
       "    <tr>\n",
       "      <th>7</th>\n",
       "      <td>??</td>\n",
       "      <td>6</td>\n",
       "    </tr>\n",
       "  </tbody>\n",
       "</table>\n",
       "</div>"
      ],
      "text/plain": [
       "      Source  Sign-ups\n",
       "0    Youtube        53\n",
       "1   Referral        44\n",
       "2     Google        43\n",
       "3  Instagram        40\n",
       "4   Facebook        37\n",
       "5   Linkedin        32\n",
       "6    Unknown         9\n",
       "7         ??         6"
      ]
     },
     "metadata": {},
     "output_type": "display_data"
    },
    {
     "name": "stdout",
     "output_type": "stream",
     "text": [
      "\n",
      "Sign-ups by Region:\n"
     ]
    },
    {
     "data": {
      "text/html": [
       "<div>\n",
       "<style scoped>\n",
       "    .dataframe tbody tr th:only-of-type {\n",
       "        vertical-align: middle;\n",
       "    }\n",
       "\n",
       "    .dataframe tbody tr th {\n",
       "        vertical-align: top;\n",
       "    }\n",
       "\n",
       "    .dataframe thead th {\n",
       "        text-align: right;\n",
       "    }\n",
       "</style>\n",
       "<table border=\"1\" class=\"dataframe\">\n",
       "  <thead>\n",
       "    <tr style=\"text-align: right;\">\n",
       "      <th></th>\n",
       "      <th>Region</th>\n",
       "      <th>Sign-ups</th>\n",
       "    </tr>\n",
       "  </thead>\n",
       "  <tbody>\n",
       "    <tr>\n",
       "      <th>0</th>\n",
       "      <td>North</td>\n",
       "      <td>55</td>\n",
       "    </tr>\n",
       "    <tr>\n",
       "      <th>1</th>\n",
       "      <td>South</td>\n",
       "      <td>54</td>\n",
       "    </tr>\n",
       "    <tr>\n",
       "      <th>2</th>\n",
       "      <td>East</td>\n",
       "      <td>54</td>\n",
       "    </tr>\n",
       "    <tr>\n",
       "      <th>3</th>\n",
       "      <td>West</td>\n",
       "      <td>41</td>\n",
       "    </tr>\n",
       "    <tr>\n",
       "      <th>4</th>\n",
       "      <td>Central</td>\n",
       "      <td>34</td>\n",
       "    </tr>\n",
       "    <tr>\n",
       "      <th>5</th>\n",
       "      <td>Unknown</td>\n",
       "      <td>26</td>\n",
       "    </tr>\n",
       "  </tbody>\n",
       "</table>\n",
       "</div>"
      ],
      "text/plain": [
       "    Region  Sign-ups\n",
       "0    North        55\n",
       "1    South        54\n",
       "2     East        54\n",
       "3     West        41\n",
       "4  Central        34\n",
       "5  Unknown        26"
      ]
     },
     "metadata": {},
     "output_type": "display_data"
    },
    {
     "name": "stdout",
     "output_type": "stream",
     "text": [
      "\n",
      "Sign-ups by Plan Selected:\n"
     ]
    },
    {
     "data": {
      "text/html": [
       "<div>\n",
       "<style scoped>\n",
       "    .dataframe tbody tr th:only-of-type {\n",
       "        vertical-align: middle;\n",
       "    }\n",
       "\n",
       "    .dataframe tbody tr th {\n",
       "        vertical-align: top;\n",
       "    }\n",
       "\n",
       "    .dataframe thead th {\n",
       "        text-align: right;\n",
       "    }\n",
       "</style>\n",
       "<table border=\"1\" class=\"dataframe\">\n",
       "  <thead>\n",
       "    <tr style=\"text-align: right;\">\n",
       "      <th></th>\n",
       "      <th>Plan Selected</th>\n",
       "      <th>Sign-ups</th>\n",
       "    </tr>\n",
       "  </thead>\n",
       "  <tbody>\n",
       "    <tr>\n",
       "      <th>0</th>\n",
       "      <td>Premium</td>\n",
       "      <td>87</td>\n",
       "    </tr>\n",
       "    <tr>\n",
       "      <th>1</th>\n",
       "      <td>Basic</td>\n",
       "      <td>84</td>\n",
       "    </tr>\n",
       "    <tr>\n",
       "      <th>2</th>\n",
       "      <td>Pro</td>\n",
       "      <td>81</td>\n",
       "    </tr>\n",
       "    <tr>\n",
       "      <th>3</th>\n",
       "      <td>Unknown</td>\n",
       "      <td>12</td>\n",
       "    </tr>\n",
       "  </tbody>\n",
       "</table>\n",
       "</div>"
      ],
      "text/plain": [
       "  Plan Selected  Sign-ups\n",
       "0       Premium        87\n",
       "1         Basic        84\n",
       "2           Pro        81\n",
       "3       Unknown        12"
      ]
     },
     "metadata": {},
     "output_type": "display_data"
    }
   ],
   "source": [
    "#Sign-ups by source\n",
    "signup_by_source = df['source'].value_counts().reset_index()\n",
    "signup_by_source.columns = ['Source', 'Sign-ups']\n",
    "\n",
    "print(\"Sign-ups by Source:\")\n",
    "display(signup_by_source)\n",
    "\n",
    "#Sign-ups by region\n",
    "signup_by_region = df['region'].value_counts().reset_index()\n",
    "signup_by_region.columns = ['Region', 'Sign-ups']\n",
    "\n",
    "print(\"\\nSign-ups by Region:\")\n",
    "display(signup_by_region)\n",
    "\n",
    "#Sign-ups by plan_selected\n",
    "signup_by_plan = df['plan_selected'].value_counts().reset_index()\n",
    "signup_by_plan.columns = ['Plan Selected', 'Sign-ups']\n",
    "\n",
    "print(\"\\nSign-ups by Plan Selected:\")\n",
    "display(signup_by_plan)\n",
    "\n"
   ]
  },
  {
   "cell_type": "markdown",
   "id": "37e687bb",
   "metadata": {},
   "source": [
    "### 3.3 Marketing opt-in counts by gender "
   ]
  },
  {
   "cell_type": "code",
   "execution_count": 28,
   "id": "b04714f9",
   "metadata": {},
   "outputs": [
    {
     "name": "stdout",
     "output_type": "stream",
     "text": [
      "Marketing Opt-in Counts by Gender:\n"
     ]
    },
    {
     "data": {
      "text/html": [
       "<div>\n",
       "<style scoped>\n",
       "    .dataframe tbody tr th:only-of-type {\n",
       "        vertical-align: middle;\n",
       "    }\n",
       "\n",
       "    .dataframe tbody tr th {\n",
       "        vertical-align: top;\n",
       "    }\n",
       "\n",
       "    .dataframe thead th {\n",
       "        text-align: right;\n",
       "    }\n",
       "</style>\n",
       "<table border=\"1\" class=\"dataframe\">\n",
       "  <thead>\n",
       "    <tr style=\"text-align: right;\">\n",
       "      <th></th>\n",
       "      <th>gender</th>\n",
       "      <th>marketing_opt_in</th>\n",
       "      <th>Count</th>\n",
       "    </tr>\n",
       "  </thead>\n",
       "  <tbody>\n",
       "    <tr>\n",
       "      <th>0</th>\n",
       "      <td>Female</td>\n",
       "      <td>No</td>\n",
       "      <td>44</td>\n",
       "    </tr>\n",
       "    <tr>\n",
       "      <th>1</th>\n",
       "      <td>Female</td>\n",
       "      <td>Yes</td>\n",
       "      <td>40</td>\n",
       "    </tr>\n",
       "    <tr>\n",
       "      <th>2</th>\n",
       "      <td>Male</td>\n",
       "      <td>No</td>\n",
       "      <td>47</td>\n",
       "    </tr>\n",
       "    <tr>\n",
       "      <th>3</th>\n",
       "      <td>Male</td>\n",
       "      <td>Yes</td>\n",
       "      <td>34</td>\n",
       "    </tr>\n",
       "    <tr>\n",
       "      <th>4</th>\n",
       "      <td>Non-Binary</td>\n",
       "      <td>No</td>\n",
       "      <td>20</td>\n",
       "    </tr>\n",
       "    <tr>\n",
       "      <th>5</th>\n",
       "      <td>Non-Binary</td>\n",
       "      <td>Yes</td>\n",
       "      <td>17</td>\n",
       "    </tr>\n",
       "    <tr>\n",
       "      <th>6</th>\n",
       "      <td>Other</td>\n",
       "      <td>No</td>\n",
       "      <td>30</td>\n",
       "    </tr>\n",
       "    <tr>\n",
       "      <th>7</th>\n",
       "      <td>Other</td>\n",
       "      <td>Yes</td>\n",
       "      <td>21</td>\n",
       "    </tr>\n",
       "    <tr>\n",
       "      <th>8</th>\n",
       "      <td>Unspecified</td>\n",
       "      <td>No</td>\n",
       "      <td>6</td>\n",
       "    </tr>\n",
       "    <tr>\n",
       "      <th>9</th>\n",
       "      <td>Unspecified</td>\n",
       "      <td>Yes</td>\n",
       "      <td>5</td>\n",
       "    </tr>\n",
       "  </tbody>\n",
       "</table>\n",
       "</div>"
      ],
      "text/plain": [
       "        gender marketing_opt_in  Count\n",
       "0       Female               No     44\n",
       "1       Female              Yes     40\n",
       "2         Male               No     47\n",
       "3         Male              Yes     34\n",
       "4   Non-Binary               No     20\n",
       "5   Non-Binary              Yes     17\n",
       "6        Other               No     30\n",
       "7        Other              Yes     21\n",
       "8  Unspecified               No      6\n",
       "9  Unspecified              Yes      5"
      ]
     },
     "metadata": {},
     "output_type": "display_data"
    }
   ],
   "source": [
    "# Group by gender and marketing_opt_in, then count\n",
    "marketing_by_gender = df.groupby(['gender', 'marketing_opt_in']).size().reset_index(name='Count')\n",
    "\n",
    "# Display the result\n",
    "print(\"Marketing Opt-in Counts by Gender:\")\n",
    "display(marketing_by_gender)\n",
    "\n"
   ]
  },
  {
   "cell_type": "markdown",
   "id": "8ae2b322",
   "metadata": {},
   "source": [
    "### 3.4 Age summary: min, max, mean, median, null count "
   ]
  },
  {
   "cell_type": "code",
   "execution_count": 29,
   "id": "13f5151a",
   "metadata": {},
   "outputs": [
    {
     "name": "stdout",
     "output_type": "stream",
     "text": [
      "Age Summary (using .groupby()):\n"
     ]
    },
    {
     "data": {
      "text/html": [
       "<div>\n",
       "<style scoped>\n",
       "    .dataframe tbody tr th:only-of-type {\n",
       "        vertical-align: middle;\n",
       "    }\n",
       "\n",
       "    .dataframe tbody tr th {\n",
       "        vertical-align: top;\n",
       "    }\n",
       "\n",
       "    .dataframe thead th {\n",
       "        text-align: right;\n",
       "    }\n",
       "</style>\n",
       "<table border=\"1\" class=\"dataframe\">\n",
       "  <thead>\n",
       "    <tr style=\"text-align: right;\">\n",
       "      <th></th>\n",
       "      <th>min_age</th>\n",
       "      <th>max_age</th>\n",
       "      <th>mean_age</th>\n",
       "      <th>median_age</th>\n",
       "      <th>null_count</th>\n",
       "    </tr>\n",
       "  </thead>\n",
       "  <tbody>\n",
       "    <tr>\n",
       "      <th>0</th>\n",
       "      <td>21.0</td>\n",
       "      <td>60.0</td>\n",
       "      <td>35.901515</td>\n",
       "      <td>34.0</td>\n",
       "      <td>0</td>\n",
       "    </tr>\n",
       "  </tbody>\n",
       "</table>\n",
       "</div>"
      ],
      "text/plain": [
       "   min_age  max_age   mean_age  median_age  null_count\n",
       "0     21.0     60.0  35.901515        34.0           0"
      ]
     },
     "metadata": {},
     "output_type": "display_data"
    }
   ],
   "source": [
    "# Group all rows into a single group to apply aggregation\n",
    "age_summary = df.groupby(lambda _: True)['age'].agg(\n",
    "    min_age='min',\n",
    "    max_age='max',\n",
    "    mean_age='mean',\n",
    "    median_age='median',\n",
    "    null_count=lambda x: x.isna().sum()\n",
    ").reset_index(drop=True)\n",
    "\n",
    "print(\"Age Summary (using .groupby()):\")\n",
    "display(age_summary)\n",
    "\n"
   ]
  },
  {
   "cell_type": "markdown",
   "id": "2bdabf55",
   "metadata": {},
   "source": [
    "## 4.  Answer Business Questions \n"
   ]
  },
  {
   "cell_type": "markdown",
   "id": "e1db5018",
   "metadata": {},
   "source": [
    "### 4.1 Which acquisition source brought in the most users last month?"
   ]
  },
  {
   "cell_type": "code",
   "execution_count": 30,
   "id": "6d1acd6f",
   "metadata": {},
   "outputs": [
    {
     "data": {
      "image/png": "[encoded data removed]",
      "text/plain": [
       "<Figure size 800x500 with 1 Axes>"
      ]
     },
     "metadata": {},
     "output_type": "display_data"
    },
    {
     "name": "stdout",
     "output_type": "stream",
     "text": [
      "\n",
      " Top Source: Google with 7 users in October 2024\n"
     ]
    }
   ],
   "source": [
    "# Get the latest signup date\n",
    "latest_date = df['signup_date'].max()\n",
    "last_month_start = latest_date.replace(day=1)\n",
    "last_month_end = last_month_start + pd.offsets.MonthEnd(1)\n",
    "\n",
    "# Filter signups for that last month\n",
    "last_month_signups = df[\n",
    "    (df['signup_date'] >= last_month_start) &\n",
    "    (df['signup_date'] <= last_month_end)\n",
    "]\n",
    "\n",
    "# Count sign-ups by source\n",
    "source_counts = last_month_signups['source'].value_counts().reset_index()\n",
    "source_counts.columns = ['Source', 'Sign-ups']\n",
    "\n",
    "# Plot with highlight\n",
    "if not source_counts.empty:\n",
    "    top_source = source_counts.iloc[0]\n",
    "\n",
    "    colors = ['lightgray' if source != top_source['Source'] else 'orange'\n",
    "              for source in source_counts['Source']]\n",
    "\n",
    "    plt.figure(figsize=(8, 5))\n",
    "    plt.bar(source_counts['Source'], source_counts['Sign-ups'], color=colors)\n",
    "    plt.title(f\"Top Acquisition Sources – {last_month_start.strftime('%B %Y')} (Last Month with Data)\")\n",
    "    plt.xlabel(\"Source\")\n",
    "    plt.ylabel(\"Number of Sign-ups\")\n",
    "    plt.xticks(rotation=45)\n",
    "    plt.grid(axis='y')\n",
    "    plt.tight_layout()\n",
    "    plt.show()\n",
    "\n",
    "    print(f\"\\n Top Source: {top_source['Source']} with {top_source['Sign-ups']} users in {last_month_start.strftime('%B %Y')}\")\n",
    "else:\n",
    "    print(\"No sign-ups found for the last month with data.\")\n",
    "\n",
    "\n"
   ]
  },
  {
   "cell_type": "markdown",
   "id": "7eb0cba0",
   "metadata": {},
   "source": [
    "### 4.2 Which region shows signs of missing or incomplete data? "
   ]
  },
  {
   "cell_type": "code",
   "execution_count": 31,
   "id": "fd28cdd6",
   "metadata": {},
   "outputs": [
    {
     "data": {
      "image/png": "[encoded data removed]",
      "text/plain": [
       "<Figure size 1400x700 with 1 Axes>"
      ]
     },
     "metadata": {},
     "output_type": "display_data"
    },
    {
     "name": "stdout",
     "output_type": "stream",
     "text": [
      "Full summary of missing data percentage by region (raw data):\n"
     ]
    },
    {
     "data": {
      "text/html": [
       "<div>\n",
       "<style scoped>\n",
       "    .dataframe tbody tr th:only-of-type {\n",
       "        vertical-align: middle;\n",
       "    }\n",
       "\n",
       "    .dataframe tbody tr th {\n",
       "        vertical-align: top;\n",
       "    }\n",
       "\n",
       "    .dataframe thead th {\n",
       "        text-align: right;\n",
       "    }\n",
       "</style>\n",
       "<table border=\"1\" class=\"dataframe\">\n",
       "  <thead>\n",
       "    <tr style=\"text-align: right;\">\n",
       "      <th></th>\n",
       "      <th>customer_id</th>\n",
       "      <th>name</th>\n",
       "      <th>email</th>\n",
       "      <th>signup_date</th>\n",
       "      <th>source</th>\n",
       "      <th>plan_selected</th>\n",
       "      <th>marketing_opt_in</th>\n",
       "      <th>age</th>\n",
       "      <th>gender</th>\n",
       "    </tr>\n",
       "    <tr>\n",
       "      <th>region</th>\n",
       "      <th></th>\n",
       "      <th></th>\n",
       "      <th></th>\n",
       "      <th></th>\n",
       "      <th></th>\n",
       "      <th></th>\n",
       "      <th></th>\n",
       "      <th></th>\n",
       "      <th></th>\n",
       "    </tr>\n",
       "  </thead>\n",
       "  <tbody>\n",
       "    <tr>\n",
       "      <th>Central</th>\n",
       "      <td>0.00</td>\n",
       "      <td>0.00</td>\n",
       "      <td>12.82</td>\n",
       "      <td>0.00</td>\n",
       "      <td>0.00</td>\n",
       "      <td>0.00</td>\n",
       "      <td>5.13</td>\n",
       "      <td>5.13</td>\n",
       "      <td>2.56</td>\n",
       "    </tr>\n",
       "    <tr>\n",
       "      <th>East</th>\n",
       "      <td>0.00</td>\n",
       "      <td>3.28</td>\n",
       "      <td>11.48</td>\n",
       "      <td>0.00</td>\n",
       "      <td>0.00</td>\n",
       "      <td>3.28</td>\n",
       "      <td>4.92</td>\n",
       "      <td>3.28</td>\n",
       "      <td>4.92</td>\n",
       "    </tr>\n",
       "    <tr>\n",
       "      <th>North</th>\n",
       "      <td>0.00</td>\n",
       "      <td>4.62</td>\n",
       "      <td>15.38</td>\n",
       "      <td>0.00</td>\n",
       "      <td>6.15</td>\n",
       "      <td>4.62</td>\n",
       "      <td>3.08</td>\n",
       "      <td>4.62</td>\n",
       "      <td>0.00</td>\n",
       "    </tr>\n",
       "    <tr>\n",
       "      <th>South</th>\n",
       "      <td>1.69</td>\n",
       "      <td>1.69</td>\n",
       "      <td>6.78</td>\n",
       "      <td>0.00</td>\n",
       "      <td>3.39</td>\n",
       "      <td>0.00</td>\n",
       "      <td>3.39</td>\n",
       "      <td>3.39</td>\n",
       "      <td>1.69</td>\n",
       "    </tr>\n",
       "    <tr>\n",
       "      <th>West</th>\n",
       "      <td>2.17</td>\n",
       "      <td>6.52</td>\n",
       "      <td>8.70</td>\n",
       "      <td>2.17</td>\n",
       "      <td>2.17</td>\n",
       "      <td>4.35</td>\n",
       "      <td>2.17</td>\n",
       "      <td>4.35</td>\n",
       "      <td>6.52</td>\n",
       "    </tr>\n",
       "  </tbody>\n",
       "</table>\n",
       "</div>"
      ],
      "text/plain": [
       "         customer_id  name  email  signup_date  source  plan_selected  \\\n",
       "region                                                                  \n",
       "Central         0.00  0.00  12.82         0.00    0.00           0.00   \n",
       "East            0.00  3.28  11.48         0.00    0.00           3.28   \n",
       "North           0.00  4.62  15.38         0.00    6.15           4.62   \n",
       "South           1.69  1.69   6.78         0.00    3.39           0.00   \n",
       "West            2.17  6.52   8.70         2.17    2.17           4.35   \n",
       "\n",
       "         marketing_opt_in   age  gender  \n",
       "region                                   \n",
       "Central              5.13  5.13    2.56  \n",
       "East                 4.92  3.28    4.92  \n",
       "North                3.08  4.62    0.00  \n",
       "South                3.39  3.39    1.69  \n",
       "West                 2.17  4.35    6.52  "
      ]
     },
     "metadata": {},
     "output_type": "display_data"
    }
   ],
   "source": [
    "#Load the raw dataset (unprocessed)\n",
    "df_raw = pd.read_csv('customer_signups_unaltered.csv')  # adjust filename/path as needed\n",
    "\n",
    "#Filter out invalid or missing region entries\n",
    "valid_regions_raw = df_raw[\n",
    "    ~df_raw['region'].isin(['Unknown', 'Unspecified', '', 'None']) & df_raw['region'].notna()\n",
    "]\n",
    "\n",
    "# Select columns to analyze (all except 'region')\n",
    "cols_to_check = [col for col in df_raw.columns if col != 'region']\n",
    "\n",
    "#Calculate percentage of missing data by region (no filtering)\n",
    "missing_by_region_raw = valid_regions_raw.groupby('region')[cols_to_check]\\\n",
    "    .apply(lambda x: x.isna().mean() * 100).round(2)\n",
    "\n",
    "#Plot the missing data percentages\n",
    "missing_by_region_raw.plot(kind='bar', figsize=(14, 7), colormap='tab20')\n",
    "plt.title(\"Percentage of Missing Data by Region (Raw Dataset)\")\n",
    "plt.xlabel(\"Region\")\n",
    "plt.ylabel(\"Missing Data (%)\")\n",
    "plt.xticks(rotation=45)\n",
    "plt.grid(axis='y')\n",
    "plt.tight_layout()\n",
    "plt.show()\n",
    "\n",
    "#Display full summary table\n",
    "print(\"Full summary of missing data percentage by region (raw data):\")\n",
    "display(missing_by_region_raw)\n",
    "\n",
    "\n",
    "\n",
    "\n"
   ]
  },
  {
   "cell_type": "markdown",
   "id": "9a1e82b3",
   "metadata": {},
   "source": [
    "### 4.3 Are older users more or less likely to opt in to marketing? "
   ]
  },
  {
   "cell_type": "code",
   "execution_count": 32,
   "id": "f75b0b8a",
   "metadata": {},
   "outputs": [
    {
     "name": "stdout",
     "output_type": "stream",
     "text": [
      "Correlation between age and marketing opt-in: 0.001\n"
     ]
    },
    {
     "data": {
      "image/png": "[encoded data removed]",
      "text/plain": [
       "<Figure size 800x500 with 1 Axes>"
      ]
     },
     "metadata": {},
     "output_type": "display_data"
    },
    {
     "name": "stdout",
     "output_type": "stream",
     "text": [
      "No clear trend between age and marketing opt-in.\n"
     ]
    }
   ],
   "source": [
    "# Prepare binary marketing opt-in column\n",
    "df['marketing_opt_in_bin'] = df['marketing_opt_in'].str.strip().str.lower().map({'yes':1, 'no':0})\n",
    "\n",
    "# Drop rows with missing age or opt-in info\n",
    "df_clean = df.dropna(subset=['age', 'marketing_opt_in_bin'])\n",
    "\n",
    "# Calculate Pearson correlation\n",
    "corr = df_clean['age'].corr(df_clean['marketing_opt_in_bin'])\n",
    "print(f\"Correlation between age and marketing opt-in: {corr:.3f}\")\n",
    "\n",
    "# Create age bins\n",
    "age_bins = [18, 25, 35, 45, 55, 65, 100]\n",
    "age_labels = ['18-24', '25-34', '35-44', '45-54', '55-64', '65+']\n",
    "df_clean['age_group'] = pd.cut(df_clean['age'], bins=age_bins, labels=age_labels, right=False)\n",
    "\n",
    "# Calculate opt-in rate per age group\n",
    "opt_in_rate = df_clean.groupby('age_group', observed=True)['marketing_opt_in_bin'].mean() * 100\n",
    "opt_in_rate = opt_in_rate.reset_index(name='Opt-in Rate (%)')\n",
    "\n",
    "# Plot opt-in rate by age group\n",
    "plt.figure(figsize=(8,5))\n",
    "plt.bar(opt_in_rate['age_group'].astype(str), opt_in_rate['Opt-in Rate (%)'], color='cornflowerblue')\n",
    "plt.title('Marketing Opt-in Rate by Age Group')\n",
    "plt.xlabel('Age Group')\n",
    "plt.ylabel('Opt-in Rate (%)')\n",
    "plt.ylim(0, 100)\n",
    "plt.grid(axis='y')\n",
    "plt.tight_layout()\n",
    "plt.show()\n",
    "\n",
    "# Interpret correlation strength\n",
    "if corr > 0.1:\n",
    "    print(\"Older users are more likely to opt in to marketing.\")\n",
    "elif corr < -0.1:\n",
    "    print(\"Older users are less likely to opt in to marketing.\")\n",
    "else:\n",
    "    print(\"No clear trend between age and marketing opt-in.\")\n"
   ]
  },
  {
   "cell_type": "markdown",
   "id": "096e4e2e",
   "metadata": {},
   "source": [
    "### 4.4 Which plan is most commonly selected, and by which age group?  "
   ]
  },
  {
   "cell_type": "code",
   "execution_count": 33,
   "id": "6d6dfd34",
   "metadata": {},
   "outputs": [
    {
     "name": "stdout",
     "output_type": "stream",
     "text": [
      "Most commonly selected plan overall: Premium\n",
      "\n",
      "Most common plan by age group:\n"
     ]
    },
    {
     "data": {
      "text/html": [
       "<div>\n",
       "<style scoped>\n",
       "    .dataframe tbody tr th:only-of-type {\n",
       "        vertical-align: middle;\n",
       "    }\n",
       "\n",
       "    .dataframe tbody tr th {\n",
       "        vertical-align: top;\n",
       "    }\n",
       "\n",
       "    .dataframe thead th {\n",
       "        text-align: right;\n",
       "    }\n",
       "</style>\n",
       "<table border=\"1\" class=\"dataframe\">\n",
       "  <thead>\n",
       "    <tr style=\"text-align: right;\">\n",
       "      <th></th>\n",
       "      <th>age_group</th>\n",
       "      <th>plan_selected</th>\n",
       "      <th>Count</th>\n",
       "    </tr>\n",
       "  </thead>\n",
       "  <tbody>\n",
       "    <tr>\n",
       "      <th>2</th>\n",
       "      <td>18-24</td>\n",
       "      <td>Pro</td>\n",
       "      <td>10</td>\n",
       "    </tr>\n",
       "    <tr>\n",
       "      <th>4</th>\n",
       "      <td>25-34</td>\n",
       "      <td>Basic</td>\n",
       "      <td>46</td>\n",
       "    </tr>\n",
       "    <tr>\n",
       "      <th>9</th>\n",
       "      <td>35-44</td>\n",
       "      <td>Premium</td>\n",
       "      <td>20</td>\n",
       "    </tr>\n",
       "    <tr>\n",
       "      <th>14</th>\n",
       "      <td>45-54</td>\n",
       "      <td>Pro</td>\n",
       "      <td>16</td>\n",
       "    </tr>\n",
       "    <tr>\n",
       "      <th>16</th>\n",
       "      <td>55-64</td>\n",
       "      <td>Basic</td>\n",
       "      <td>4</td>\n",
       "    </tr>\n",
       "  </tbody>\n",
       "</table>\n",
       "</div>"
      ],
      "text/plain": [
       "   age_group plan_selected  Count\n",
       "2      18-24           Pro     10\n",
       "4      25-34         Basic     46\n",
       "9      35-44       Premium     20\n",
       "14     45-54           Pro     16\n",
       "16     55-64         Basic      4"
      ]
     },
     "metadata": {},
     "output_type": "display_data"
    },
    {
     "data": {
      "image/png": "[encoded data removed]",
      "text/plain": [
       "<Figure size 1000x600 with 1 Axes>"
      ]
     },
     "metadata": {},
     "output_type": "display_data"
    }
   ],
   "source": [
    "age_bins = [18, 25, 35, 45, 55, 65, 100]\n",
    "age_labels = ['18-24', '25-34', '35-44', '45-54', '55-64', '65+']\n",
    "\n",
    "df['age_group'] = pd.cut(df['age'], bins=age_bins, labels=age_labels, right=False)\n",
    "\n",
    "# Add observed=True to groupby to fix warning\n",
    "plan_age_counts = df.groupby(['age_group', 'plan_selected'], observed=True).size().reset_index(name='Count')\n",
    "\n",
    "most_common_plan = df['plan_selected'].mode()[0]\n",
    "print(f\"Most commonly selected plan overall: {most_common_plan}\")\n",
    "\n",
    "most_common_by_age = plan_age_counts.loc[plan_age_counts.groupby('age_group', observed=True)['Count'].idxmax()]\n",
    "\n",
    "print(\"\\nMost common plan by age group:\")\n",
    "display(most_common_by_age)\n",
    "\n",
    "plan_pivot = plan_age_counts.pivot(index='age_group', columns='plan_selected', values='Count').fillna(0)\n",
    "\n",
    "plan_pivot.plot(kind='bar', stacked=True, figsize=(10, 6), colormap='tab20')\n",
    "plt.title('Plan Selection Distribution by Age Group')\n",
    "plt.xlabel('Age Group')\n",
    "plt.ylabel('Number of Users')\n",
    "plt.xticks(rotation=45)\n",
    "plt.legend(title='Plan Selected', bbox_to_anchor=(1.05, 1), loc='upper left')\n",
    "plt.tight_layout()\n",
    "plt.show()\n"
   ]
  }
 ],
 "metadata": {
  "kernelspec": {
   "display_name": "Python 3",
   "language": "python",
   "name": "python3"
  },
  "language_info": {
   "codemirror_mode": {
    "name": "ipython",
    "version": 3
   },
   "file_extension": ".py",
   "mimetype": "text/x-python",
   "name": "python",
   "nbconvert_exporter": "python",
   "pygments_lexer": "ipython3",
   "version": "3.13.2"
  }
 },
 "nbformat": 4,
 "nbformat_minor": 5
}
